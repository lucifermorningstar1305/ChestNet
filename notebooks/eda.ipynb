{
 "cells": [
  {
   "cell_type": "code",
   "execution_count": 12,
   "metadata": {},
   "outputs": [],
   "source": [
    "import numpy as np\n",
    "import pandas as pd\n",
    "import matplotlib.pyplot as plt\n",
    "import seaborn as sns\n",
    "import os\n",
    "import sys\n",
    "\n",
    "from rich.progress import track\n",
    "from collections import defaultdict"
   ]
  },
  {
   "cell_type": "code",
   "execution_count": 2,
   "metadata": {},
   "outputs": [
    {
     "data": {
      "text/html": [
       "<div>\n",
       "<style scoped>\n",
       "    .dataframe tbody tr th:only-of-type {\n",
       "        vertical-align: middle;\n",
       "    }\n",
       "\n",
       "    .dataframe tbody tr th {\n",
       "        vertical-align: top;\n",
       "    }\n",
       "\n",
       "    .dataframe thead th {\n",
       "        text-align: right;\n",
       "    }\n",
       "</style>\n",
       "<table border=\"1\" class=\"dataframe\">\n",
       "  <thead>\n",
       "    <tr style=\"text-align: right;\">\n",
       "      <th></th>\n",
       "      <th>Image Index</th>\n",
       "      <th>Finding Labels</th>\n",
       "      <th>Follow-up #</th>\n",
       "      <th>Patient ID</th>\n",
       "      <th>Patient Age</th>\n",
       "      <th>Patient Gender</th>\n",
       "      <th>View Position</th>\n",
       "      <th>OriginalImage[Width</th>\n",
       "      <th>Height]</th>\n",
       "      <th>OriginalImagePixelSpacing[x</th>\n",
       "      <th>y]</th>\n",
       "      <th>Unnamed: 11</th>\n",
       "    </tr>\n",
       "  </thead>\n",
       "  <tbody>\n",
       "    <tr>\n",
       "      <th>0</th>\n",
       "      <td>00000001_000.png</td>\n",
       "      <td>Cardiomegaly</td>\n",
       "      <td>0</td>\n",
       "      <td>1</td>\n",
       "      <td>058Y</td>\n",
       "      <td>M</td>\n",
       "      <td>PA</td>\n",
       "      <td>2682</td>\n",
       "      <td>2749</td>\n",
       "      <td>0.143</td>\n",
       "      <td>0.143</td>\n",
       "      <td>NaN</td>\n",
       "    </tr>\n",
       "    <tr>\n",
       "      <th>1</th>\n",
       "      <td>00000001_001.png</td>\n",
       "      <td>Cardiomegaly|Emphysema</td>\n",
       "      <td>1</td>\n",
       "      <td>1</td>\n",
       "      <td>058Y</td>\n",
       "      <td>M</td>\n",
       "      <td>PA</td>\n",
       "      <td>2894</td>\n",
       "      <td>2729</td>\n",
       "      <td>0.143</td>\n",
       "      <td>0.143</td>\n",
       "      <td>NaN</td>\n",
       "    </tr>\n",
       "    <tr>\n",
       "      <th>2</th>\n",
       "      <td>00000001_002.png</td>\n",
       "      <td>Cardiomegaly|Effusion</td>\n",
       "      <td>2</td>\n",
       "      <td>1</td>\n",
       "      <td>058Y</td>\n",
       "      <td>M</td>\n",
       "      <td>PA</td>\n",
       "      <td>2500</td>\n",
       "      <td>2048</td>\n",
       "      <td>0.168</td>\n",
       "      <td>0.168</td>\n",
       "      <td>NaN</td>\n",
       "    </tr>\n",
       "    <tr>\n",
       "      <th>3</th>\n",
       "      <td>00000002_000.png</td>\n",
       "      <td>No Finding</td>\n",
       "      <td>0</td>\n",
       "      <td>2</td>\n",
       "      <td>081Y</td>\n",
       "      <td>M</td>\n",
       "      <td>PA</td>\n",
       "      <td>2500</td>\n",
       "      <td>2048</td>\n",
       "      <td>0.171</td>\n",
       "      <td>0.171</td>\n",
       "      <td>NaN</td>\n",
       "    </tr>\n",
       "    <tr>\n",
       "      <th>4</th>\n",
       "      <td>00000003_000.png</td>\n",
       "      <td>Hernia</td>\n",
       "      <td>0</td>\n",
       "      <td>3</td>\n",
       "      <td>081Y</td>\n",
       "      <td>F</td>\n",
       "      <td>PA</td>\n",
       "      <td>2582</td>\n",
       "      <td>2991</td>\n",
       "      <td>0.143</td>\n",
       "      <td>0.143</td>\n",
       "      <td>NaN</td>\n",
       "    </tr>\n",
       "  </tbody>\n",
       "</table>\n",
       "</div>"
      ],
      "text/plain": [
       "        Image Index          Finding Labels  Follow-up #  Patient ID  \\\n",
       "0  00000001_000.png            Cardiomegaly            0           1   \n",
       "1  00000001_001.png  Cardiomegaly|Emphysema            1           1   \n",
       "2  00000001_002.png   Cardiomegaly|Effusion            2           1   \n",
       "3  00000002_000.png              No Finding            0           2   \n",
       "4  00000003_000.png                  Hernia            0           3   \n",
       "\n",
       "  Patient Age Patient Gender View Position  OriginalImage[Width  Height]  \\\n",
       "0        058Y              M            PA                 2682     2749   \n",
       "1        058Y              M            PA                 2894     2729   \n",
       "2        058Y              M            PA                 2500     2048   \n",
       "3        081Y              M            PA                 2500     2048   \n",
       "4        081Y              F            PA                 2582     2991   \n",
       "\n",
       "   OriginalImagePixelSpacing[x     y]  Unnamed: 11  \n",
       "0                        0.143  0.143          NaN  \n",
       "1                        0.143  0.143          NaN  \n",
       "2                        0.168  0.168          NaN  \n",
       "3                        0.171  0.171          NaN  \n",
       "4                        0.143  0.143          NaN  "
      ]
     },
     "execution_count": 2,
     "metadata": {},
     "output_type": "execute_result"
    }
   ],
   "source": [
    "df = pd.read_csv(\"/media/darthvader/New Volume/DataHub/infosys/chest_xray/Data_Entry_2017.csv\")\n",
    "df.head()"
   ]
  },
  {
   "cell_type": "code",
   "execution_count": 14,
   "metadata": {},
   "outputs": [
    {
     "data": {
      "text/html": [
       "<div>\n",
       "<style scoped>\n",
       "    .dataframe tbody tr th:only-of-type {\n",
       "        vertical-align: middle;\n",
       "    }\n",
       "\n",
       "    .dataframe tbody tr th {\n",
       "        vertical-align: top;\n",
       "    }\n",
       "\n",
       "    .dataframe thead th {\n",
       "        text-align: right;\n",
       "    }\n",
       "</style>\n",
       "<table border=\"1\" class=\"dataframe\">\n",
       "  <thead>\n",
       "    <tr style=\"text-align: right;\">\n",
       "      <th></th>\n",
       "      <th>img_index</th>\n",
       "      <th>label</th>\n",
       "      <th>n_follow_ups</th>\n",
       "      <th>pid</th>\n",
       "      <th>p_age</th>\n",
       "      <th>sex</th>\n",
       "      <th>view_pos</th>\n",
       "    </tr>\n",
       "  </thead>\n",
       "  <tbody>\n",
       "    <tr>\n",
       "      <th>0</th>\n",
       "      <td>00000001_000.png</td>\n",
       "      <td>Cardiomegaly</td>\n",
       "      <td>0</td>\n",
       "      <td>1</td>\n",
       "      <td>058Y</td>\n",
       "      <td>M</td>\n",
       "      <td>PA</td>\n",
       "    </tr>\n",
       "    <tr>\n",
       "      <th>1</th>\n",
       "      <td>00000001_001.png</td>\n",
       "      <td>Cardiomegaly|Emphysema</td>\n",
       "      <td>1</td>\n",
       "      <td>1</td>\n",
       "      <td>058Y</td>\n",
       "      <td>M</td>\n",
       "      <td>PA</td>\n",
       "    </tr>\n",
       "    <tr>\n",
       "      <th>2</th>\n",
       "      <td>00000001_002.png</td>\n",
       "      <td>Cardiomegaly|Effusion</td>\n",
       "      <td>2</td>\n",
       "      <td>1</td>\n",
       "      <td>058Y</td>\n",
       "      <td>M</td>\n",
       "      <td>PA</td>\n",
       "    </tr>\n",
       "    <tr>\n",
       "      <th>3</th>\n",
       "      <td>00000002_000.png</td>\n",
       "      <td>No Finding</td>\n",
       "      <td>0</td>\n",
       "      <td>2</td>\n",
       "      <td>081Y</td>\n",
       "      <td>M</td>\n",
       "      <td>PA</td>\n",
       "    </tr>\n",
       "    <tr>\n",
       "      <th>4</th>\n",
       "      <td>00000003_000.png</td>\n",
       "      <td>Hernia</td>\n",
       "      <td>0</td>\n",
       "      <td>3</td>\n",
       "      <td>081Y</td>\n",
       "      <td>F</td>\n",
       "      <td>PA</td>\n",
       "    </tr>\n",
       "  </tbody>\n",
       "</table>\n",
       "</div>"
      ],
      "text/plain": [
       "          img_index                   label  n_follow_ups  pid p_age sex  \\\n",
       "0  00000001_000.png            Cardiomegaly             0    1  058Y   M   \n",
       "1  00000001_001.png  Cardiomegaly|Emphysema             1    1  058Y   M   \n",
       "2  00000001_002.png   Cardiomegaly|Effusion             2    1  058Y   M   \n",
       "3  00000002_000.png              No Finding             0    2  081Y   M   \n",
       "4  00000003_000.png                  Hernia             0    3  081Y   F   \n",
       "\n",
       "  view_pos  \n",
       "0       PA  \n",
       "1       PA  \n",
       "2       PA  \n",
       "3       PA  \n",
       "4       PA  "
      ]
     },
     "execution_count": 14,
     "metadata": {},
     "output_type": "execute_result"
    }
   ],
   "source": [
    "df.drop([\"OriginalImage[Width\", \"Height]\", \"OriginalImagePixelSpacing[x\", \"y]\", \"Unnamed: 11\"], axis=1, inplace=True)\n",
    "df.columns = [\"img_index\", \"label\", \"n_follow_ups\", \"pid\", \"p_age\", \"sex\", \"view_pos\"]\n",
    "df.head()"
   ]
  },
  {
   "cell_type": "code",
   "execution_count": 5,
   "metadata": {},
   "outputs": [],
   "source": [
    "def get_img_index(file_path: str) -> list:\n",
    "    data = \"\"\n",
    "    with open(file_path, \"r\") as fp:\n",
    "        data = fp.readlines()\n",
    "\n",
    "    data = list(map(lambda x: x.replace(\"\\n\", \"\"), data))\n",
    "\n",
    "    return data"
   ]
  },
  {
   "cell_type": "code",
   "execution_count": 10,
   "metadata": {},
   "outputs": [
    {
     "name": "stdout",
     "output_type": "stream",
     "text": [
      "Length of train_val list: 86524\n",
      "Length of test list: 25596\n"
     ]
    }
   ],
   "source": [
    "train_val_list = get_img_index(\"/media/darthvader/New Volume/DataHub/infosys/chest_xray/train_val_list_NIH.txt\")\n",
    "test_list = get_img_index(\"/media/darthvader/New Volume/DataHub/infosys/chest_xray/test_list_NIH.txt\")\n",
    "\n",
    "print(f\"Length of train_val list: {len(train_val_list)}\")\n",
    "print(f\"Length of test list: {len(test_list)}\")"
   ]
  },
  {
   "cell_type": "code",
   "execution_count": 15,
   "metadata": {},
   "outputs": [
    {
     "data": {
      "application/vnd.jupyter.widget-view+json": {
       "model_id": "fa9c3d165c2d40d19381a97b9dedbfe1",
       "version_major": 2,
       "version_minor": 0
      },
      "text/plain": [
       "Output()"
      ]
     },
     "metadata": {},
     "output_type": "display_data"
    },
    {
     "data": {
      "text/html": [
       "<pre style=\"white-space:pre;overflow-x:auto;line-height:normal;font-family:Menlo,'DejaVu Sans Mono',consolas,'Courier New',monospace\"></pre>\n"
      ],
      "text/plain": []
     },
     "metadata": {},
     "output_type": "display_data"
    },
    {
     "data": {
      "text/html": [
       "<pre style=\"white-space:pre;overflow-x:auto;line-height:normal;font-family:Menlo,'DejaVu Sans Mono',consolas,'Courier New',monospace\">\n",
       "</pre>\n"
      ],
      "text/plain": [
       "\n"
      ]
     },
     "metadata": {},
     "output_type": "display_data"
    },
    {
     "data": {
      "application/vnd.jupyter.widget-view+json": {
       "model_id": "358dff1bf83b4af5ab5fb46aded9631e",
       "version_major": 2,
       "version_minor": 0
      },
      "text/plain": [
       "Output()"
      ]
     },
     "metadata": {},
     "output_type": "display_data"
    },
    {
     "data": {
      "text/html": [
       "<pre style=\"white-space:pre;overflow-x:auto;line-height:normal;font-family:Menlo,'DejaVu Sans Mono',consolas,'Courier New',monospace\"></pre>\n"
      ],
      "text/plain": []
     },
     "metadata": {},
     "output_type": "display_data"
    },
    {
     "data": {
      "text/html": [
       "<pre style=\"white-space:pre;overflow-x:auto;line-height:normal;font-family:Menlo,'DejaVu Sans Mono',consolas,'Courier New',monospace\">\n",
       "</pre>\n"
      ],
      "text/plain": [
       "\n"
      ]
     },
     "metadata": {},
     "output_type": "display_data"
    }
   ],
   "source": [
    "train_val_data = defaultdict(lambda: list())\n",
    "test_data = defaultdict(lambda: list())\n",
    "\n",
    "for root, folder, files in os.walk(\"/media/darthvader/New Volume/DataHub/infosys/chest_xray/images-224\"):\n",
    "    n_files = len(files)\n",
    "    for idx in track(range(n_files)):\n",
    "        img_file = files[idx]\n",
    "\n",
    "        if img_file in train_val_list:\n",
    "            train_val_data[\"img_path\"].append(os.path.join(root, img_file))\n",
    "            train_val_data[\"img_index\"].append(img_file)\n",
    "        \n",
    "        elif img_file in test_list:\n",
    "            test_data[\"img_path\"].append(os.path.join(root, img_file))\n",
    "            test_data[\"img_index\"].append(img_file)"
   ]
  },
  {
   "cell_type": "code",
   "execution_count": 25,
   "metadata": {},
   "outputs": [
    {
     "name": "stdout",
     "output_type": "stream",
     "text": [
      "Shape of train_val_df: (86524, 2)\n",
      "Shape of test_df: (25596, 2)\n"
     ]
    }
   ],
   "source": [
    "train_val_df = pd.DataFrame(train_val_data)\n",
    "test_df = pd.DataFrame(test_data)\n",
    "\n",
    "print(f\"Shape of train_val_df: {train_val_df.shape}\")\n",
    "print(f\"Shape of test_df: {test_df.shape}\")"
   ]
  },
  {
   "cell_type": "code",
   "execution_count": 26,
   "metadata": {},
   "outputs": [
    {
     "name": "stdout",
     "output_type": "stream",
     "text": [
      "Number of records after removing multi-label: (91385, 7)\n"
     ]
    },
    {
     "name": "stderr",
     "output_type": "stream",
     "text": [
      "/tmp/ipykernel_45035/802076085.py:1: FutureWarning: The default value of regex will change from True to False in a future version. In addition, single character regular expressions will *not* be treated as literal strings when regex=True.\n",
      "  df[\"label\"] = df[\"label\"].str.replace(\"|\", \",\")\n"
     ]
    }
   ],
   "source": [
    "df[\"label\"] = df[\"label\"].str.replace(\"|\", \",\")\n",
    "df = df.loc[~df[\"label\"].str.contains(\",\")]\n",
    "print(f\"Number of records after removing multi-label: {df.shape}\")"
   ]
  },
  {
   "cell_type": "code",
   "execution_count": 27,
   "metadata": {},
   "outputs": [
    {
     "data": {
      "text/html": [
       "<div>\n",
       "<style scoped>\n",
       "    .dataframe tbody tr th:only-of-type {\n",
       "        vertical-align: middle;\n",
       "    }\n",
       "\n",
       "    .dataframe tbody tr th {\n",
       "        vertical-align: top;\n",
       "    }\n",
       "\n",
       "    .dataframe thead th {\n",
       "        text-align: right;\n",
       "    }\n",
       "</style>\n",
       "<table border=\"1\" class=\"dataframe\">\n",
       "  <thead>\n",
       "    <tr style=\"text-align: right;\">\n",
       "      <th></th>\n",
       "      <th>img_index</th>\n",
       "      <th>label</th>\n",
       "      <th>n_follow_ups</th>\n",
       "      <th>pid</th>\n",
       "      <th>p_age</th>\n",
       "      <th>sex</th>\n",
       "      <th>view_pos</th>\n",
       "      <th>img_path</th>\n",
       "    </tr>\n",
       "  </thead>\n",
       "  <tbody>\n",
       "    <tr>\n",
       "      <th>0</th>\n",
       "      <td>00000001_000.png</td>\n",
       "      <td>Cardiomegaly</td>\n",
       "      <td>0</td>\n",
       "      <td>1</td>\n",
       "      <td>058Y</td>\n",
       "      <td>M</td>\n",
       "      <td>PA</td>\n",
       "      <td>/media/darthvader/New Volume/DataHub/infosys/c...</td>\n",
       "    </tr>\n",
       "    <tr>\n",
       "      <th>1</th>\n",
       "      <td>00000002_000.png</td>\n",
       "      <td>No Finding</td>\n",
       "      <td>0</td>\n",
       "      <td>2</td>\n",
       "      <td>081Y</td>\n",
       "      <td>M</td>\n",
       "      <td>PA</td>\n",
       "      <td>/media/darthvader/New Volume/DataHub/infosys/c...</td>\n",
       "    </tr>\n",
       "    <tr>\n",
       "      <th>2</th>\n",
       "      <td>00000005_000.png</td>\n",
       "      <td>No Finding</td>\n",
       "      <td>0</td>\n",
       "      <td>5</td>\n",
       "      <td>069Y</td>\n",
       "      <td>F</td>\n",
       "      <td>PA</td>\n",
       "      <td>/media/darthvader/New Volume/DataHub/infosys/c...</td>\n",
       "    </tr>\n",
       "    <tr>\n",
       "      <th>3</th>\n",
       "      <td>00000005_001.png</td>\n",
       "      <td>No Finding</td>\n",
       "      <td>1</td>\n",
       "      <td>5</td>\n",
       "      <td>069Y</td>\n",
       "      <td>F</td>\n",
       "      <td>AP</td>\n",
       "      <td>/media/darthvader/New Volume/DataHub/infosys/c...</td>\n",
       "    </tr>\n",
       "    <tr>\n",
       "      <th>4</th>\n",
       "      <td>00000005_002.png</td>\n",
       "      <td>No Finding</td>\n",
       "      <td>2</td>\n",
       "      <td>5</td>\n",
       "      <td>069Y</td>\n",
       "      <td>F</td>\n",
       "      <td>AP</td>\n",
       "      <td>/media/darthvader/New Volume/DataHub/infosys/c...</td>\n",
       "    </tr>\n",
       "  </tbody>\n",
       "</table>\n",
       "</div>"
      ],
      "text/plain": [
       "          img_index         label  n_follow_ups  pid p_age sex view_pos  \\\n",
       "0  00000001_000.png  Cardiomegaly             0    1  058Y   M       PA   \n",
       "1  00000002_000.png    No Finding             0    2  081Y   M       PA   \n",
       "2  00000005_000.png    No Finding             0    5  069Y   F       PA   \n",
       "3  00000005_001.png    No Finding             1    5  069Y   F       AP   \n",
       "4  00000005_002.png    No Finding             2    5  069Y   F       AP   \n",
       "\n",
       "                                            img_path  \n",
       "0  /media/darthvader/New Volume/DataHub/infosys/c...  \n",
       "1  /media/darthvader/New Volume/DataHub/infosys/c...  \n",
       "2  /media/darthvader/New Volume/DataHub/infosys/c...  \n",
       "3  /media/darthvader/New Volume/DataHub/infosys/c...  \n",
       "4  /media/darthvader/New Volume/DataHub/infosys/c...  "
      ]
     },
     "execution_count": 27,
     "metadata": {},
     "output_type": "execute_result"
    }
   ],
   "source": [
    "train_val_df = pd.merge(df, train_val_df, on=\"img_index\", how=\"inner\")\n",
    "train_val_df.head()"
   ]
  },
  {
   "cell_type": "code",
   "execution_count": 29,
   "metadata": {},
   "outputs": [
    {
     "data": {
      "text/html": [
       "<div>\n",
       "<style scoped>\n",
       "    .dataframe tbody tr th:only-of-type {\n",
       "        vertical-align: middle;\n",
       "    }\n",
       "\n",
       "    .dataframe tbody tr th {\n",
       "        vertical-align: top;\n",
       "    }\n",
       "\n",
       "    .dataframe thead th {\n",
       "        text-align: right;\n",
       "    }\n",
       "</style>\n",
       "<table border=\"1\" class=\"dataframe\">\n",
       "  <thead>\n",
       "    <tr style=\"text-align: right;\">\n",
       "      <th></th>\n",
       "      <th>img_index</th>\n",
       "      <th>label</th>\n",
       "      <th>n_follow_ups</th>\n",
       "      <th>pid</th>\n",
       "      <th>p_age</th>\n",
       "      <th>sex</th>\n",
       "      <th>view_pos</th>\n",
       "      <th>img_path</th>\n",
       "    </tr>\n",
       "  </thead>\n",
       "  <tbody>\n",
       "    <tr>\n",
       "      <th>0</th>\n",
       "      <td>00000003_000.png</td>\n",
       "      <td>Hernia</td>\n",
       "      <td>0</td>\n",
       "      <td>3</td>\n",
       "      <td>081Y</td>\n",
       "      <td>F</td>\n",
       "      <td>PA</td>\n",
       "      <td>/media/darthvader/New Volume/DataHub/infosys/c...</td>\n",
       "    </tr>\n",
       "    <tr>\n",
       "      <th>1</th>\n",
       "      <td>00000003_001.png</td>\n",
       "      <td>Hernia</td>\n",
       "      <td>1</td>\n",
       "      <td>3</td>\n",
       "      <td>074Y</td>\n",
       "      <td>F</td>\n",
       "      <td>PA</td>\n",
       "      <td>/media/darthvader/New Volume/DataHub/infosys/c...</td>\n",
       "    </tr>\n",
       "    <tr>\n",
       "      <th>2</th>\n",
       "      <td>00000003_002.png</td>\n",
       "      <td>Hernia</td>\n",
       "      <td>2</td>\n",
       "      <td>3</td>\n",
       "      <td>075Y</td>\n",
       "      <td>F</td>\n",
       "      <td>PA</td>\n",
       "      <td>/media/darthvader/New Volume/DataHub/infosys/c...</td>\n",
       "    </tr>\n",
       "    <tr>\n",
       "      <th>3</th>\n",
       "      <td>00000003_004.png</td>\n",
       "      <td>Hernia</td>\n",
       "      <td>4</td>\n",
       "      <td>3</td>\n",
       "      <td>077Y</td>\n",
       "      <td>F</td>\n",
       "      <td>PA</td>\n",
       "      <td>/media/darthvader/New Volume/DataHub/infosys/c...</td>\n",
       "    </tr>\n",
       "    <tr>\n",
       "      <th>4</th>\n",
       "      <td>00000003_005.png</td>\n",
       "      <td>Hernia</td>\n",
       "      <td>5</td>\n",
       "      <td>3</td>\n",
       "      <td>078Y</td>\n",
       "      <td>F</td>\n",
       "      <td>PA</td>\n",
       "      <td>/media/darthvader/New Volume/DataHub/infosys/c...</td>\n",
       "    </tr>\n",
       "  </tbody>\n",
       "</table>\n",
       "</div>"
      ],
      "text/plain": [
       "          img_index   label  n_follow_ups  pid p_age sex view_pos  \\\n",
       "0  00000003_000.png  Hernia             0    3  081Y   F       PA   \n",
       "1  00000003_001.png  Hernia             1    3  074Y   F       PA   \n",
       "2  00000003_002.png  Hernia             2    3  075Y   F       PA   \n",
       "3  00000003_004.png  Hernia             4    3  077Y   F       PA   \n",
       "4  00000003_005.png  Hernia             5    3  078Y   F       PA   \n",
       "\n",
       "                                            img_path  \n",
       "0  /media/darthvader/New Volume/DataHub/infosys/c...  \n",
       "1  /media/darthvader/New Volume/DataHub/infosys/c...  \n",
       "2  /media/darthvader/New Volume/DataHub/infosys/c...  \n",
       "3  /media/darthvader/New Volume/DataHub/infosys/c...  \n",
       "4  /media/darthvader/New Volume/DataHub/infosys/c...  "
      ]
     },
     "execution_count": 29,
     "metadata": {},
     "output_type": "execute_result"
    }
   ],
   "source": [
    "test_df = pd.merge(df, test_df, on=\"img_index\", how=\"inner\")\n",
    "test_df.head()"
   ]
  },
  {
   "cell_type": "code",
   "execution_count": 34,
   "metadata": {},
   "outputs": [
    {
     "data": {
      "image/png": "[encoded data removed]",
      "text/plain": [
       "<Figure size 1200x800 with 1 Axes>"
      ]
     },
     "metadata": {},
     "output_type": "display_data"
    }
   ],
   "source": [
    "plt.figure(figsize=(12, 8))\n",
    "plt.title(\"Distribution of label\")\n",
    "sns.countplot(x=\"label\", data=train_val_df)\n",
    "plt.xticks(rotation=90)\n",
    "plt.show()"
   ]
  },
  {
   "cell_type": "code",
   "execution_count": 35,
   "metadata": {},
   "outputs": [],
   "source": [
    "train_val_df.to_csv(\"/media/darthvader/New Volume/DataHub/infosys/chest_xray/train_val_df.csv\", index=False)\n",
    "test_df.to_csv(\"/media/darthvader/New Volume/DataHub/infosys/chest_xray/test_df.csv\", index=False)"
   ]
  },
  {
   "cell_type": "code",
   "execution_count": null,
   "metadata": {},
   "outputs": [],
   "source": []
  }
 ],
 "metadata": {
  "kernelspec": {
   "display_name": "expenv",
   "language": "python",
   "name": "python3"
  },
  "language_info": {
   "codemirror_mode": {
    "name": "ipython",
    "version": 3
   },
   "file_extension": ".py",
   "mimetype": "text/x-python",
   "name": "python",
   "nbconvert_exporter": "python",
   "pygments_lexer": "ipython3",
   "version": "3.11.4"
  }
 },
 "nbformat": 4,
 "nbformat_minor": 2
}
